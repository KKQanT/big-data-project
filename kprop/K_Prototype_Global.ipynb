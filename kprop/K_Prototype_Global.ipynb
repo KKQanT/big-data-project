{
  "nbformat": 4,
  "nbformat_minor": 0,
  "metadata": {
    "colab": {
      "provenance": []
    },
    "kernelspec": {
      "name": "python3",
      "display_name": "Python 3"
    },
    "language_info": {
      "name": "python"
    }
  },
  "cells": [
    {
      "cell_type": "code",
      "source": [
        "!pip install pyspark"
      ],
      "metadata": {
        "colab": {
          "base_uri": "https://localhost:8080/"
        },
        "id": "Rf8rNbqSBq35",
        "outputId": "68396e5a-29b0-4d1a-c0a5-cee6fc505b59"
      },
      "execution_count": 145,
      "outputs": [
        {
          "output_type": "stream",
          "name": "stdout",
          "text": [
            "Requirement already satisfied: pyspark in /usr/local/lib/python3.10/dist-packages (3.5.1)\n",
            "Requirement already satisfied: py4j==0.10.9.7 in /usr/local/lib/python3.10/dist-packages (from pyspark) (0.10.9.7)\n"
          ]
        }
      ]
    },
    {
      "cell_type": "code",
      "source": [
        "from pyspark.sql import SparkSession\n",
        "import pyspark.sql.functions as F\n",
        "import pandas as pd\n",
        "import numpy as np\n",
        "\n",
        "spark = SparkSession \\\n",
        "        .builder \\\n",
        "        .master(\"local[*]\") \\\n",
        "        .appName(\"k-prototype-global\") \\\n",
        "        .getOrCreate()\n",
        "\n",
        "sc = spark.sparkContext"
      ],
      "metadata": {
        "id": "3PpXY0L1BRQY"
      },
      "execution_count": 146,
      "outputs": []
    },
    {
      "cell_type": "code",
      "source": [
        "df = pd.read_csv(\"data.csv\")\n",
        "\n",
        "\n",
        "labels = [\"Age\", \"Height\", \"Weight\",\"family_history_with_overweight\",\"Gender\"]\n",
        "\n",
        "# from which label are the categorical variables\n",
        "categorical_labels_start_index = 3\n",
        "\n",
        "labels[categorical_labels_start_index:]"
      ],
      "metadata": {
        "colab": {
          "base_uri": "https://localhost:8080/"
        },
        "id": "GPGQGwQ4cwUv",
        "outputId": "9354c1cd-44fa-4d22-bc1a-7ef5b26bfb26"
      },
      "execution_count": 251,
      "outputs": [
        {
          "output_type": "execute_result",
          "data": {
            "text/plain": [
              "['family_history_with_overweight', 'Gender']"
            ]
          },
          "metadata": {},
          "execution_count": 251
        }
      ]
    },
    {
      "cell_type": "code",
      "source": [
        "df = df[labels]\n",
        "df.head()"
      ],
      "metadata": {
        "colab": {
          "base_uri": "https://localhost:8080/",
          "height": 206
        },
        "id": "ak6cmlibdIft",
        "outputId": "d3f0095b-2ac5-438e-e377-d8bffd76241c"
      },
      "execution_count": 252,
      "outputs": [
        {
          "output_type": "execute_result",
          "data": {
            "text/plain": [
              "    Age  Height  Weight family_history_with_overweight  Gender\n",
              "0  21.0    1.62    64.0                            yes  Female\n",
              "1  21.0    1.52    56.0                            yes  Female\n",
              "2  23.0    1.80    77.0                            yes    Male\n",
              "3  27.0    1.80    87.0                             no    Male\n",
              "4  22.0    1.78    89.8                             no    Male"
            ],
            "text/html": [
              "\n",
              "  <div id=\"df-ed95723e-deb8-4695-90ac-213f7b0ec864\" class=\"colab-df-container\">\n",
              "    <div>\n",
              "<style scoped>\n",
              "    .dataframe tbody tr th:only-of-type {\n",
              "        vertical-align: middle;\n",
              "    }\n",
              "\n",
              "    .dataframe tbody tr th {\n",
              "        vertical-align: top;\n",
              "    }\n",
              "\n",
              "    .dataframe thead th {\n",
              "        text-align: right;\n",
              "    }\n",
              "</style>\n",
              "<table border=\"1\" class=\"dataframe\">\n",
              "  <thead>\n",
              "    <tr style=\"text-align: right;\">\n",
              "      <th></th>\n",
              "      <th>Age</th>\n",
              "      <th>Height</th>\n",
              "      <th>Weight</th>\n",
              "      <th>family_history_with_overweight</th>\n",
              "      <th>Gender</th>\n",
              "    </tr>\n",
              "  </thead>\n",
              "  <tbody>\n",
              "    <tr>\n",
              "      <th>0</th>\n",
              "      <td>21.0</td>\n",
              "      <td>1.62</td>\n",
              "      <td>64.0</td>\n",
              "      <td>yes</td>\n",
              "      <td>Female</td>\n",
              "    </tr>\n",
              "    <tr>\n",
              "      <th>1</th>\n",
              "      <td>21.0</td>\n",
              "      <td>1.52</td>\n",
              "      <td>56.0</td>\n",
              "      <td>yes</td>\n",
              "      <td>Female</td>\n",
              "    </tr>\n",
              "    <tr>\n",
              "      <th>2</th>\n",
              "      <td>23.0</td>\n",
              "      <td>1.80</td>\n",
              "      <td>77.0</td>\n",
              "      <td>yes</td>\n",
              "      <td>Male</td>\n",
              "    </tr>\n",
              "    <tr>\n",
              "      <th>3</th>\n",
              "      <td>27.0</td>\n",
              "      <td>1.80</td>\n",
              "      <td>87.0</td>\n",
              "      <td>no</td>\n",
              "      <td>Male</td>\n",
              "    </tr>\n",
              "    <tr>\n",
              "      <th>4</th>\n",
              "      <td>22.0</td>\n",
              "      <td>1.78</td>\n",
              "      <td>89.8</td>\n",
              "      <td>no</td>\n",
              "      <td>Male</td>\n",
              "    </tr>\n",
              "  </tbody>\n",
              "</table>\n",
              "</div>\n",
              "    <div class=\"colab-df-buttons\">\n",
              "\n",
              "  <div class=\"colab-df-container\">\n",
              "    <button class=\"colab-df-convert\" onclick=\"convertToInteractive('df-ed95723e-deb8-4695-90ac-213f7b0ec864')\"\n",
              "            title=\"Convert this dataframe to an interactive table.\"\n",
              "            style=\"display:none;\">\n",
              "\n",
              "  <svg xmlns=\"http://www.w3.org/2000/svg\" height=\"24px\" viewBox=\"0 -960 960 960\">\n",
              "    <path d=\"M120-120v-720h720v720H120Zm60-500h600v-160H180v160Zm220 220h160v-160H400v160Zm0 220h160v-160H400v160ZM180-400h160v-160H180v160Zm440 0h160v-160H620v160ZM180-180h160v-160H180v160Zm440 0h160v-160H620v160Z\"/>\n",
              "  </svg>\n",
              "    </button>\n",
              "\n",
              "  <style>\n",
              "    .colab-df-container {\n",
              "      display:flex;\n",
              "      gap: 12px;\n",
              "    }\n",
              "\n",
              "    .colab-df-convert {\n",
              "      background-color: #E8F0FE;\n",
              "      border: none;\n",
              "      border-radius: 50%;\n",
              "      cursor: pointer;\n",
              "      display: none;\n",
              "      fill: #1967D2;\n",
              "      height: 32px;\n",
              "      padding: 0 0 0 0;\n",
              "      width: 32px;\n",
              "    }\n",
              "\n",
              "    .colab-df-convert:hover {\n",
              "      background-color: #E2EBFA;\n",
              "      box-shadow: 0px 1px 2px rgba(60, 64, 67, 0.3), 0px 1px 3px 1px rgba(60, 64, 67, 0.15);\n",
              "      fill: #174EA6;\n",
              "    }\n",
              "\n",
              "    .colab-df-buttons div {\n",
              "      margin-bottom: 4px;\n",
              "    }\n",
              "\n",
              "    [theme=dark] .colab-df-convert {\n",
              "      background-color: #3B4455;\n",
              "      fill: #D2E3FC;\n",
              "    }\n",
              "\n",
              "    [theme=dark] .colab-df-convert:hover {\n",
              "      background-color: #434B5C;\n",
              "      box-shadow: 0px 1px 3px 1px rgba(0, 0, 0, 0.15);\n",
              "      filter: drop-shadow(0px 1px 2px rgba(0, 0, 0, 0.3));\n",
              "      fill: #FFFFFF;\n",
              "    }\n",
              "  </style>\n",
              "\n",
              "    <script>\n",
              "      const buttonEl =\n",
              "        document.querySelector('#df-ed95723e-deb8-4695-90ac-213f7b0ec864 button.colab-df-convert');\n",
              "      buttonEl.style.display =\n",
              "        google.colab.kernel.accessAllowed ? 'block' : 'none';\n",
              "\n",
              "      async function convertToInteractive(key) {\n",
              "        const element = document.querySelector('#df-ed95723e-deb8-4695-90ac-213f7b0ec864');\n",
              "        const dataTable =\n",
              "          await google.colab.kernel.invokeFunction('convertToInteractive',\n",
              "                                                    [key], {});\n",
              "        if (!dataTable) return;\n",
              "\n",
              "        const docLinkHtml = 'Like what you see? Visit the ' +\n",
              "          '<a target=\"_blank\" href=https://colab.research.google.com/notebooks/data_table.ipynb>data table notebook</a>'\n",
              "          + ' to learn more about interactive tables.';\n",
              "        element.innerHTML = '';\n",
              "        dataTable['output_type'] = 'display_data';\n",
              "        await google.colab.output.renderOutput(dataTable, element);\n",
              "        const docLink = document.createElement('div');\n",
              "        docLink.innerHTML = docLinkHtml;\n",
              "        element.appendChild(docLink);\n",
              "      }\n",
              "    </script>\n",
              "  </div>\n",
              "\n",
              "\n",
              "<div id=\"df-2821b241-c437-4b32-b65d-3ab1608dbb83\">\n",
              "  <button class=\"colab-df-quickchart\" onclick=\"quickchart('df-2821b241-c437-4b32-b65d-3ab1608dbb83')\"\n",
              "            title=\"Suggest charts\"\n",
              "            style=\"display:none;\">\n",
              "\n",
              "<svg xmlns=\"http://www.w3.org/2000/svg\" height=\"24px\"viewBox=\"0 0 24 24\"\n",
              "     width=\"24px\">\n",
              "    <g>\n",
              "        <path d=\"M19 3H5c-1.1 0-2 .9-2 2v14c0 1.1.9 2 2 2h14c1.1 0 2-.9 2-2V5c0-1.1-.9-2-2-2zM9 17H7v-7h2v7zm4 0h-2V7h2v10zm4 0h-2v-4h2v4z\"/>\n",
              "    </g>\n",
              "</svg>\n",
              "  </button>\n",
              "\n",
              "<style>\n",
              "  .colab-df-quickchart {\n",
              "      --bg-color: #E8F0FE;\n",
              "      --fill-color: #1967D2;\n",
              "      --hover-bg-color: #E2EBFA;\n",
              "      --hover-fill-color: #174EA6;\n",
              "      --disabled-fill-color: #AAA;\n",
              "      --disabled-bg-color: #DDD;\n",
              "  }\n",
              "\n",
              "  [theme=dark] .colab-df-quickchart {\n",
              "      --bg-color: #3B4455;\n",
              "      --fill-color: #D2E3FC;\n",
              "      --hover-bg-color: #434B5C;\n",
              "      --hover-fill-color: #FFFFFF;\n",
              "      --disabled-bg-color: #3B4455;\n",
              "      --disabled-fill-color: #666;\n",
              "  }\n",
              "\n",
              "  .colab-df-quickchart {\n",
              "    background-color: var(--bg-color);\n",
              "    border: none;\n",
              "    border-radius: 50%;\n",
              "    cursor: pointer;\n",
              "    display: none;\n",
              "    fill: var(--fill-color);\n",
              "    height: 32px;\n",
              "    padding: 0;\n",
              "    width: 32px;\n",
              "  }\n",
              "\n",
              "  .colab-df-quickchart:hover {\n",
              "    background-color: var(--hover-bg-color);\n",
              "    box-shadow: 0 1px 2px rgba(60, 64, 67, 0.3), 0 1px 3px 1px rgba(60, 64, 67, 0.15);\n",
              "    fill: var(--button-hover-fill-color);\n",
              "  }\n",
              "\n",
              "  .colab-df-quickchart-complete:disabled,\n",
              "  .colab-df-quickchart-complete:disabled:hover {\n",
              "    background-color: var(--disabled-bg-color);\n",
              "    fill: var(--disabled-fill-color);\n",
              "    box-shadow: none;\n",
              "  }\n",
              "\n",
              "  .colab-df-spinner {\n",
              "    border: 2px solid var(--fill-color);\n",
              "    border-color: transparent;\n",
              "    border-bottom-color: var(--fill-color);\n",
              "    animation:\n",
              "      spin 1s steps(1) infinite;\n",
              "  }\n",
              "\n",
              "  @keyframes spin {\n",
              "    0% {\n",
              "      border-color: transparent;\n",
              "      border-bottom-color: var(--fill-color);\n",
              "      border-left-color: var(--fill-color);\n",
              "    }\n",
              "    20% {\n",
              "      border-color: transparent;\n",
              "      border-left-color: var(--fill-color);\n",
              "      border-top-color: var(--fill-color);\n",
              "    }\n",
              "    30% {\n",
              "      border-color: transparent;\n",
              "      border-left-color: var(--fill-color);\n",
              "      border-top-color: var(--fill-color);\n",
              "      border-right-color: var(--fill-color);\n",
              "    }\n",
              "    40% {\n",
              "      border-color: transparent;\n",
              "      border-right-color: var(--fill-color);\n",
              "      border-top-color: var(--fill-color);\n",
              "    }\n",
              "    60% {\n",
              "      border-color: transparent;\n",
              "      border-right-color: var(--fill-color);\n",
              "    }\n",
              "    80% {\n",
              "      border-color: transparent;\n",
              "      border-right-color: var(--fill-color);\n",
              "      border-bottom-color: var(--fill-color);\n",
              "    }\n",
              "    90% {\n",
              "      border-color: transparent;\n",
              "      border-bottom-color: var(--fill-color);\n",
              "    }\n",
              "  }\n",
              "</style>\n",
              "\n",
              "  <script>\n",
              "    async function quickchart(key) {\n",
              "      const quickchartButtonEl =\n",
              "        document.querySelector('#' + key + ' button');\n",
              "      quickchartButtonEl.disabled = true;  // To prevent multiple clicks.\n",
              "      quickchartButtonEl.classList.add('colab-df-spinner');\n",
              "      try {\n",
              "        const charts = await google.colab.kernel.invokeFunction(\n",
              "            'suggestCharts', [key], {});\n",
              "      } catch (error) {\n",
              "        console.error('Error during call to suggestCharts:', error);\n",
              "      }\n",
              "      quickchartButtonEl.classList.remove('colab-df-spinner');\n",
              "      quickchartButtonEl.classList.add('colab-df-quickchart-complete');\n",
              "    }\n",
              "    (() => {\n",
              "      let quickchartButtonEl =\n",
              "        document.querySelector('#df-2821b241-c437-4b32-b65d-3ab1608dbb83 button');\n",
              "      quickchartButtonEl.style.display =\n",
              "        google.colab.kernel.accessAllowed ? 'block' : 'none';\n",
              "    })();\n",
              "  </script>\n",
              "</div>\n",
              "    </div>\n",
              "  </div>\n"
            ],
            "application/vnd.google.colaboratory.intrinsic+json": {
              "type": "dataframe",
              "variable_name": "df",
              "summary": "{\n  \"name\": \"df\",\n  \"rows\": 2111,\n  \"fields\": [\n    {\n      \"column\": \"Age\",\n      \"properties\": {\n        \"dtype\": \"number\",\n        \"std\": 6.345968273732234,\n        \"min\": 14.0,\n        \"max\": 61.0,\n        \"num_unique_values\": 1402,\n        \"samples\": [\n          25.526746,\n          26.740655,\n          21.491055\n        ],\n        \"semantic_type\": \"\",\n        \"description\": \"\"\n      }\n    },\n    {\n      \"column\": \"Height\",\n      \"properties\": {\n        \"dtype\": \"number\",\n        \"std\": 0.09330481986792007,\n        \"min\": 1.45,\n        \"max\": 1.98,\n        \"num_unique_values\": 1574,\n        \"samples\": [\n          1.760175,\n          1.688436,\n          1.607787\n        ],\n        \"semantic_type\": \"\",\n        \"description\": \"\"\n      }\n    },\n    {\n      \"column\": \"Weight\",\n      \"properties\": {\n        \"dtype\": \"number\",\n        \"std\": 26.1911717452047,\n        \"min\": 39.0,\n        \"max\": 173.0,\n        \"num_unique_values\": 1525,\n        \"samples\": [\n          120.702935,\n          64.4,\n          118.740035\n        ],\n        \"semantic_type\": \"\",\n        \"description\": \"\"\n      }\n    },\n    {\n      \"column\": \"family_history_with_overweight\",\n      \"properties\": {\n        \"dtype\": \"category\",\n        \"num_unique_values\": 2,\n        \"samples\": [\n          \"no\",\n          \"yes\"\n        ],\n        \"semantic_type\": \"\",\n        \"description\": \"\"\n      }\n    },\n    {\n      \"column\": \"Gender\",\n      \"properties\": {\n        \"dtype\": \"category\",\n        \"num_unique_values\": 2,\n        \"samples\": [\n          \"Male\",\n          \"Female\"\n        ],\n        \"semantic_type\": \"\",\n        \"description\": \"\"\n      }\n    }\n  ]\n}"
            }
          },
          "metadata": {},
          "execution_count": 252
        }
      ]
    },
    {
      "cell_type": "code",
      "source": [
        "df = spark.createDataFrame(df)\n",
        "df.show(5)"
      ],
      "metadata": {
        "colab": {
          "base_uri": "https://localhost:8080/"
        },
        "id": "Lw_DykFgCKgB",
        "outputId": "30d87cae-778d-4883-95d2-73734d075ab8"
      },
      "execution_count": 253,
      "outputs": [
        {
          "output_type": "stream",
          "name": "stdout",
          "text": [
            "+----+------+------+------------------------------+------+\n",
            "| Age|Height|Weight|family_history_with_overweight|Gender|\n",
            "+----+------+------+------------------------------+------+\n",
            "|21.0|  1.62|  64.0|                           yes|Female|\n",
            "|21.0|  1.52|  56.0|                           yes|Female|\n",
            "|23.0|   1.8|  77.0|                           yes|  Male|\n",
            "|27.0|   1.8|  87.0|                            no|  Male|\n",
            "|22.0|  1.78|  89.8|                            no|  Male|\n",
            "+----+------+------+------------------------------+------+\n",
            "only showing top 5 rows\n",
            "\n"
          ]
        }
      ]
    },
    {
      "cell_type": "code",
      "source": [
        "df.printSchema()"
      ],
      "metadata": {
        "colab": {
          "base_uri": "https://localhost:8080/"
        },
        "id": "8DIZbXpldfO8",
        "outputId": "05571076-8cd9-46db-8757-0513eac07e96"
      },
      "execution_count": 254,
      "outputs": [
        {
          "output_type": "stream",
          "name": "stdout",
          "text": [
            "root\n",
            " |-- Age: double (nullable = true)\n",
            " |-- Height: double (nullable = true)\n",
            " |-- Weight: double (nullable = true)\n",
            " |-- family_history_with_overweight: string (nullable = true)\n",
            " |-- Gender: string (nullable = true)\n",
            "\n"
          ]
        }
      ]
    },
    {
      "cell_type": "markdown",
      "source": [
        "## Normalising the data"
      ],
      "metadata": {
        "id": "tcXfTdU4CxMZ"
      }
    },
    {
      "cell_type": "code",
      "source": [
        "# min max normalisation for the numerical data\n",
        "for col in df.columns[:categorical_labels_start_index]:\n",
        "  minimum = df.agg({col: \"min\"}).collect()[0][0]\n",
        "  maximum = df.agg({col: \"max\"}).collect()[0][0]\n",
        "\n",
        "  df = df.withColumn(col + '_norm', (df[col] - minimum) / (maximum - minimum))"
      ],
      "metadata": {
        "id": "f0mQS-D_Dqdn"
      },
      "execution_count": 255,
      "outputs": []
    },
    {
      "cell_type": "code",
      "source": [
        "df.show(10)"
      ],
      "metadata": {
        "colab": {
          "base_uri": "https://localhost:8080/"
        },
        "id": "RO0aeuciEOxZ",
        "outputId": "a2c64b1d-bea3-4f29-dd35-25bb325e0fa6"
      },
      "execution_count": 152,
      "outputs": [
        {
          "output_type": "stream",
          "name": "stdout",
          "text": [
            "+----+------+------+------------------------------+------+-------------------+-------------------+-------------------+\n",
            "| Age|Height|Weight|family_history_with_overweight|Gender|           Age_norm|        Height_norm|        Weight_norm|\n",
            "+----+------+------+------------------------------+------+-------------------+-------------------+-------------------+\n",
            "|21.0|  1.62|  64.0|                           yes|Female|0.14893617021276595|0.32075471698113234| 0.1865671641791045|\n",
            "|21.0|  1.52|  56.0|                           yes|Female|0.14893617021276595|0.13207547169811332|0.12686567164179105|\n",
            "|23.0|   1.8|  77.0|                           yes|  Male|0.19148936170212766| 0.6603773584905662| 0.2835820895522388|\n",
            "|27.0|   1.8|  87.0|                            no|  Male| 0.2765957446808511| 0.6603773584905662| 0.3582089552238806|\n",
            "|22.0|  1.78|  89.8|                            no|  Male| 0.1702127659574468| 0.6226415094339623|0.37910447761194027|\n",
            "|29.0|  1.62|  53.0|                            no|  Male| 0.3191489361702128|0.32075471698113234| 0.1044776119402985|\n",
            "|23.0|   1.5|  55.0|                           yes|Female|0.19148936170212766|0.09433962264150951|0.11940298507462686|\n",
            "|22.0|  1.64|  53.0|                            no|  Male| 0.1702127659574468| 0.3584905660377357| 0.1044776119402985|\n",
            "|24.0|  1.78|  64.0|                           yes|  Male| 0.2127659574468085| 0.6226415094339623| 0.1865671641791045|\n",
            "|22.0|  1.72|  68.0|                           yes|  Male| 0.1702127659574468| 0.5094339622641509|0.21641791044776118|\n",
            "+----+------+------+------------------------------+------+-------------------+-------------------+-------------------+\n",
            "only showing top 10 rows\n",
            "\n"
          ]
        }
      ]
    },
    {
      "cell_type": "code",
      "source": [
        "df_norm = df.drop(\"Age\").drop(\"Height\").drop(\"Weight\")\n",
        "df_norm.show(5)"
      ],
      "metadata": {
        "colab": {
          "base_uri": "https://localhost:8080/"
        },
        "id": "cv9CfAz7EVw-",
        "outputId": "191514c4-71ac-49aa-d757-6365130b7e75"
      },
      "execution_count": 256,
      "outputs": [
        {
          "output_type": "stream",
          "name": "stdout",
          "text": [
            "+------------------------------+------+-------------------+-------------------+-------------------+\n",
            "|family_history_with_overweight|Gender|           Age_norm|        Height_norm|        Weight_norm|\n",
            "+------------------------------+------+-------------------+-------------------+-------------------+\n",
            "|                           yes|Female|0.14893617021276595|0.32075471698113234| 0.1865671641791045|\n",
            "|                           yes|Female|0.14893617021276595|0.13207547169811332|0.12686567164179105|\n",
            "|                           yes|  Male|0.19148936170212766| 0.6603773584905662| 0.2835820895522388|\n",
            "|                            no|  Male| 0.2765957446808511| 0.6603773584905662| 0.3582089552238806|\n",
            "|                            no|  Male| 0.1702127659574468| 0.6226415094339623|0.37910447761194027|\n",
            "+------------------------------+------+-------------------+-------------------+-------------------+\n",
            "only showing top 5 rows\n",
            "\n"
          ]
        }
      ]
    },
    {
      "cell_type": "markdown",
      "source": [
        "## K prototype"
      ],
      "metadata": {
        "id": "XVra7eZIGhgN"
      }
    },
    {
      "cell_type": "code",
      "source": [
        "# make into partitions\n",
        "rdd = df_norm.rdd.repartition(4)\n",
        "rdd.cache()"
      ],
      "metadata": {
        "colab": {
          "base_uri": "https://localhost:8080/"
        },
        "id": "Mxrpduk1FLQs",
        "outputId": "20b638c7-b3c3-4d92-f2f7-e0e0343cedf5"
      },
      "execution_count": 257,
      "outputs": [
        {
          "output_type": "execute_result",
          "data": {
            "text/plain": [
              "MapPartitionsRDD[716] at coalesce at NativeMethodAccessorImpl.java:0"
            ]
          },
          "metadata": {},
          "execution_count": 257
        }
      ]
    },
    {
      "cell_type": "code",
      "source": [
        "def to_numpy_numerical(row, index):\n",
        "  return np.array(list(row.asDict().values())[index:])"
      ],
      "metadata": {
        "id": "SFy6tdzJo0rp"
      },
      "execution_count": 258,
      "outputs": []
    },
    {
      "cell_type": "code",
      "source": [
        "def to_numpy_categorical(row, index):\n",
        "  return np.array(list(row.asDict().values())[:index])"
      ],
      "metadata": {
        "id": "It2I_3Rbqc-F"
      },
      "execution_count": 259,
      "outputs": []
    },
    {
      "cell_type": "markdown",
      "source": [
        "## Initializing centroids"
      ],
      "metadata": {
        "id": "qYHeGCqKHsJP"
      }
    },
    {
      "cell_type": "code",
      "source": [
        "index = len(labels) - categorical_labels_start_index\n",
        "numerical_rdd = rdd.map(lambda row: to_numpy_numerical(row, index))\n",
        "\n",
        "# initialize k clusters\n",
        "k = 3\n",
        "seed = 42\n",
        "numerical_centres = numerical_rdd.takeSample(False, k, seed)"
      ],
      "metadata": {
        "id": "3_I54JUNpSqF"
      },
      "execution_count": 260,
      "outputs": []
    },
    {
      "cell_type": "code",
      "source": [
        "numerical_centres"
      ],
      "metadata": {
        "colab": {
          "base_uri": "https://localhost:8080/"
        },
        "id": "z5k-JCb7p9I8",
        "outputId": "1801ad34-bf78-4db2-fa79-3b64e76948ac"
      },
      "execution_count": 261,
      "outputs": [
        {
          "output_type": "execute_result",
          "data": {
            "text/plain": [
              "[array([0.1360443 , 0.56172453, 0.66528439]),\n",
              " array([0.11021132, 0.3538434 , 0.23134328]),\n",
              " array([0.18676362, 0.39889623, 0.61006129])]"
            ]
          },
          "metadata": {},
          "execution_count": 261
        }
      ]
    },
    {
      "cell_type": "code",
      "source": [
        "categorical_rdd = rdd.map(lambda row: to_numpy_categorical(row, index))\n",
        "categorical_centres = categorical_rdd.takeSample(False, k, seed)"
      ],
      "metadata": {
        "id": "NrNyF7J7qldi"
      },
      "execution_count": 262,
      "outputs": []
    },
    {
      "cell_type": "code",
      "source": [
        "categorical_centres"
      ],
      "metadata": {
        "colab": {
          "base_uri": "https://localhost:8080/"
        },
        "id": "in9XgUGHqyiC",
        "outputId": "f7f1091c-0a0e-4c4b-fd73-d88e8ad4fa9b"
      },
      "execution_count": 263,
      "outputs": [
        {
          "output_type": "execute_result",
          "data": {
            "text/plain": [
              "[array(['yes', 'Female'], dtype='<U6'),\n",
              " array(['yes', 'Male'], dtype='<U4'),\n",
              " array(['yes', 'Female'], dtype='<U6')]"
            ]
          },
          "metadata": {},
          "execution_count": 263
        }
      ]
    },
    {
      "cell_type": "code",
      "source": [
        "# broadcast the centre values\n",
        "numerical_centres_bc = sc.broadcast(numerical_centres)\n",
        "categorical_centres_bc = sc.broadcast(categorical_centres)"
      ],
      "metadata": {
        "id": "4nTPocA5H735"
      },
      "execution_count": 264,
      "outputs": []
    },
    {
      "cell_type": "markdown",
      "source": [
        "## Distance measures"
      ],
      "metadata": {
        "id": "byptSPJ7HkvY"
      }
    },
    {
      "cell_type": "code",
      "source": [
        "# find the nearest centroid\n",
        "def euclidean_distance(vect):\n",
        "  return np.sqrt(np.sum((numerical_centres_bc.value - vect)**2, axis=1))\n",
        "\n",
        "def hamming_distance(vect):\n",
        "  return 0.2 * np.sum(vect != categorical_centres_bc.value, axis=1)\n"
      ],
      "metadata": {
        "id": "42ZwYh9CrRtu"
      },
      "execution_count": 265,
      "outputs": []
    },
    {
      "cell_type": "code",
      "source": [
        "# find the distance to the centroid for numerical data\n",
        "numerical_rdd.map(lambda vect: euclidean_distance(vect)).collect()[:10]\n"
      ],
      "metadata": {
        "colab": {
          "base_uri": "https://localhost:8080/"
        },
        "id": "m5dnWDFhRIjP",
        "outputId": "713eb382-1fa7-4195-9953-314429f16732"
      },
      "execution_count": 266,
      "outputs": [
        {
          "output_type": "execute_result",
          "data": {
            "text/plain": [
              "[array([0.38576506, 0.33989987, 0.37263552]),\n",
              " array([0.59374894, 0.27432781, 0.45733534]),\n",
              " array([0.39887808, 0.27383837, 0.39264238]),\n",
              " array([0.49409115, 0.53184803, 0.48025454]),\n",
              " array([0.52805429, 0.08784874, 0.43926013]),\n",
              " array([0.66384915, 0.2650172 , 0.5169795 ]),\n",
              " array([0.68955449, 0.22262703, 0.56883953]),\n",
              " array([0.65999305, 0.18294946, 0.55641329]),\n",
              " array([0.49527901, 0.08752317, 0.40171169]),\n",
              " array([0.29992099, 0.25410659, 0.29848534])]"
            ]
          },
          "metadata": {},
          "execution_count": 266
        }
      ]
    },
    {
      "cell_type": "code",
      "source": [
        "# find the distance to the centroid for categorical data\n",
        "categorical_rdd.map(lambda vect: hamming_distance(vect)).collect()[:10]"
      ],
      "metadata": {
        "colab": {
          "base_uri": "https://localhost:8080/"
        },
        "id": "Nwo1HiXfSbxw",
        "outputId": "0e644dbd-0db3-4ce3-ae3a-2eb5ef831faf"
      },
      "execution_count": 267,
      "outputs": [
        {
          "output_type": "execute_result",
          "data": {
            "text/plain": [
              "[array([0.4, 0.2, 0.4]),\n",
              " array([0. , 0.2, 0. ]),\n",
              " array([0.2, 0.4, 0.2]),\n",
              " array([0.4, 0.2, 0.4]),\n",
              " array([0.4, 0.2, 0.4]),\n",
              " array([0. , 0.2, 0. ]),\n",
              " array([0.2, 0.4, 0.2]),\n",
              " array([0.2, 0.4, 0.2]),\n",
              " array([0.2, 0. , 0.2]),\n",
              " array([0. , 0.2, 0. ])]"
            ]
          },
          "metadata": {},
          "execution_count": 267
        }
      ]
    },
    {
      "cell_type": "code",
      "source": [
        "def get_total_distance(numerical_vect, categorical_vect):\n",
        "  numerical_distance = euclidean_distance(numerical_vect)\n",
        "  categorical_distance = hamming_distance(categorical_vect)\n",
        "  total_distance = numerical_distance + categorical_distance\n",
        "  return total_distance"
      ],
      "metadata": {
        "id": "7p_tgbR5Yx2B"
      },
      "execution_count": 268,
      "outputs": []
    },
    {
      "cell_type": "code",
      "source": [
        "total_distance_rdd = numerical_rdd.zip(categorical_rdd).map(lambda x: get_total_distance(x[0], x[1]))\n",
        "\n",
        "# find the centroid which has the closest distance\n",
        "closest_centroid_rdd = total_distance_rdd.map(lambda x: np.argmin(x))\n",
        "closest_centroid_rdd.collect()[:10]"
      ],
      "metadata": {
        "colab": {
          "base_uri": "https://localhost:8080/"
        },
        "id": "lddtehAcD_nd",
        "outputId": "d285a7a3-bcc1-4702-d0da-b8a2569cd44b"
      },
      "execution_count": 269,
      "outputs": [
        {
          "output_type": "execute_result",
          "data": {
            "text/plain": [
              "[1, 2, 2, 1, 1, 1, 1, 1, 1, 2]"
            ]
          },
          "metadata": {},
          "execution_count": 269
        }
      ]
    },
    {
      "cell_type": "code",
      "source": [
        "centroid_categorical_value = closest_centroid_rdd.zip(categorical_rdd).map((lambda x: (x[0],x[1])))\n"
      ],
      "metadata": {
        "id": "R-cU-d-nE438"
      },
      "execution_count": 270,
      "outputs": []
    },
    {
      "cell_type": "code",
      "source": [
        "# closest_centroid_rdd.zip(categorical_rdd).map((lambda x: (x[0],x[1]))).collect()[:10]"
      ],
      "metadata": {
        "colab": {
          "base_uri": "https://localhost:8080/"
        },
        "id": "EpJmMY5LZq8t",
        "outputId": "09bff007-6ca9-4aaa-8ed2-716894a7066b"
      },
      "execution_count": 272,
      "outputs": [
        {
          "output_type": "execute_result",
          "data": {
            "text/plain": [
              "[(1, array(['no', 'Male'], dtype='<U4')),\n",
              " (2, array(['yes', 'Female'], dtype='<U6')),\n",
              " (2, array(['no', 'Female'], dtype='<U6')),\n",
              " (1, array(['no', 'Male'], dtype='<U4')),\n",
              " (1, array(['no', 'Male'], dtype='<U4')),\n",
              " (1, array(['yes', 'Female'], dtype='<U6')),\n",
              " (1, array(['no', 'Female'], dtype='<U6')),\n",
              " (1, array(['no', 'Female'], dtype='<U6')),\n",
              " (1, array(['yes', 'Male'], dtype='<U4')),\n",
              " (2, array(['yes', 'Female'], dtype='<U6'))]"
            ]
          },
          "metadata": {},
          "execution_count": 272
        }
      ]
    },
    {
      "cell_type": "code",
      "source": [
        "# closest = numerical_rdd.zip(categorical_rdd).map(lambda x: nearest_centroid(x[0], x[1]))\n",
        "\n",
        "closest_centroid_rdd.zip(categorical_rdd).map((lambda x: (x[0],x[1]))).collect()[:10]"
      ],
      "metadata": {
        "colab": {
          "base_uri": "https://localhost:8080/"
        },
        "id": "RGnNxJl7dl8Z",
        "outputId": "1fa92435-d67f-4bed-f24c-bd5c71d3d91f"
      },
      "execution_count": 273,
      "outputs": [
        {
          "output_type": "execute_result",
          "data": {
            "text/plain": [
              "[(1, array(['no', 'Male'], dtype='<U4')),\n",
              " (2, array(['yes', 'Female'], dtype='<U6')),\n",
              " (2, array(['no', 'Female'], dtype='<U6')),\n",
              " (1, array(['no', 'Male'], dtype='<U4')),\n",
              " (1, array(['no', 'Male'], dtype='<U4')),\n",
              " (1, array(['yes', 'Female'], dtype='<U6')),\n",
              " (1, array(['no', 'Female'], dtype='<U6')),\n",
              " (1, array(['no', 'Female'], dtype='<U6')),\n",
              " (1, array(['yes', 'Male'], dtype='<U4')),\n",
              " (2, array(['yes', 'Female'], dtype='<U6'))]"
            ]
          },
          "metadata": {},
          "execution_count": 273
        }
      ]
    },
    {
      "cell_type": "markdown",
      "source": [
        "## find the new centroid for categorical part"
      ],
      "metadata": {
        "id": "EZTSAOo3Glxh"
      }
    },
    {
      "cell_type": "code",
      "source": [
        "centroid_categorical_value = closest_centroid_rdd.zip(categorical_rdd).map((lambda x: (x[0],x[1])))\n",
        "\n",
        "grouped_rdd = centroid_categorical_value.groupByKey().mapValues(list)\n",
        "\n",
        "from collections import Counter\n",
        "import numpy as np\n",
        "\n",
        "def find_mode(values):\n",
        "    counts = Counter(values)\n",
        "    return np.array([max(counts, key=counts.get)])\n",
        "\n",
        "modes = grouped_rdd.map(lambda x: tuple(find_mode(column) for column in zip(*x[1])))\n",
        "result = np.array(modes.collect())\n",
        "numpy_arrays = [np.array(row) for row in result.squeeze()]\n",
        "numpy_arrays\n",
        "\n",
        "# categorical_centres_bc = sc.broadcast(numpy_arrays)\n",
        "# categorical_centres_bc.value"
      ],
      "metadata": {
        "colab": {
          "base_uri": "https://localhost:8080/"
        },
        "id": "7-Rc4V0FeqcX",
        "outputId": "9c728d8e-81ea-4b86-d7af-46a3a52dc6b2"
      },
      "execution_count": 274,
      "outputs": [
        {
          "output_type": "execute_result",
          "data": {
            "text/plain": [
              "[array(['yes', 'Male'], dtype='<U6'),\n",
              " array(['yes', 'Male'], dtype='<U6'),\n",
              " array(['yes', 'Female'], dtype='<U6')]"
            ]
          },
          "metadata": {},
          "execution_count": 274
        }
      ]
    },
    {
      "cell_type": "markdown",
      "source": [
        "## find the new centroid for numerical part"
      ],
      "metadata": {
        "id": "JeRA310IGr1A"
      }
    },
    {
      "cell_type": "code",
      "source": [
        "centroid_numerical_value = closest_centroid_rdd.zip(numerical_rdd).map((lambda x: (x[0],x[1])))\n",
        "\n",
        "new_centres = centroid_numerical_value.map(lambda x: ((x[0]),(1,x[1])) ).reduceByKey(lambda x, y: (x[0]+y[0], x[1]+y[1]))\n",
        "new_c = new_centres.map(lambda x: x[1][1]/x[1][0]).collect()\n",
        "new_c\n",
        "# numerical_centres_bc = sc.broadcast(new_c)\n",
        "# numerical_centres_bc.value"
      ],
      "metadata": {
        "colab": {
          "base_uri": "https://localhost:8080/"
        },
        "id": "ze3IyhOfGvBx",
        "outputId": "c36c9556-84f8-403d-a134-529330f4e420"
      },
      "execution_count": 276,
      "outputs": [
        {
          "output_type": "execute_result",
          "data": {
            "text/plain": [
              "[array([0.21251834, 0.64924743, 0.62601173]),\n",
              " array([0.18510456, 0.45994437, 0.24617052]),\n",
              " array([0.31044582, 0.36504586, 0.39755838])]"
            ]
          },
          "metadata": {},
          "execution_count": 276
        }
      ]
    },
    {
      "cell_type": "markdown",
      "source": [
        "## training"
      ],
      "metadata": {
        "id": "Cv8rsw3MHSNw"
      }
    },
    {
      "cell_type": "code",
      "source": [
        "max_iter = 10\n",
        "\n",
        "for j in range(max_iter):\n",
        "  # find the points which are closest\n",
        "  total_distance_rdd = numerical_rdd.zip(categorical_rdd).map(lambda x: get_total_distance(x[0], x[1]))\n",
        "\n",
        "  # find the centroid which has the closest distance\n",
        "  closest_centroid_rdd = total_distance_rdd.map(lambda x: np.argmin(x))\n",
        "\n",
        "\n",
        "  # find the new centroid for categorical data\n",
        "  centroid_categorical_value = closest_centroid_rdd.zip(categorical_rdd).map((lambda x: (x[0],x[1])))\n",
        "\n",
        "  grouped_rdd = centroid_categorical_value.groupByKey().mapValues(list)\n",
        "\n",
        "  modes = grouped_rdd.map(lambda x: tuple(find_mode(column) for column in zip(*x[1])))\n",
        "  result = np.array(modes.collect())\n",
        "  numpy_arrays = [np.array(row) for row in result.squeeze()]\n",
        "\n",
        "  # find the new centroid for numerical data\n",
        "  centroid_numerical_value = closest_centroid_rdd.zip(numerical_rdd).map((lambda x: (x[0],x[1])))\n",
        "\n",
        "  new_centres = centroid_numerical_value.map(lambda x: ((x[0]),(1,x[1])) ).reduceByKey(lambda x, y: (x[0]+y[0], x[1]+y[1]))\n",
        "  new_c = new_centres.map(lambda x: x[1][1]/x[1][0]).collect()\n",
        "\n",
        "  # compute the difference between new clusters and previous\n",
        "  temp_dist = 0\n",
        "  for i in range(k):\n",
        "    temp_dist += np.sqrt( np.sum( (new_c[i] - numerical_centres_bc.value[i])**2 ) ) + np.sum( (categorical_centres_bc.value[i] != numpy_arrays[i]) ) * 0.2\n",
        "\n",
        "  print(\"iteration\", j+1, \"centroid difference\", temp_dist)\n",
        "\n",
        "  if temp_dist < 0.001:\n",
        "    print(\"centroids remain the same, breaking\")\n",
        "    break\n",
        "  else:\n",
        "    categorical_centres_bc = sc.broadcast(numpy_arrays)\n",
        "    numerical_centres_bc = sc.broadcast(new_c)"
      ],
      "metadata": {
        "colab": {
          "base_uri": "https://localhost:8080/"
        },
        "id": "xck07Db7UuCG",
        "outputId": "c539ff02-c956-44e2-8ff8-caf4e742f357"
      },
      "execution_count": 277,
      "outputs": [
        {
          "output_type": "stream",
          "name": "stdout",
          "text": [
            "iteration 0 centroid difference 0.7015911793180523\n",
            "iteration 1 centroid difference 0.2733756728394019\n",
            "iteration 2 centroid difference 0.04831452287418763\n",
            "iteration 3 centroid difference 0.010274610127814538\n",
            "iteration 4 centroid difference 0.003983484660497624\n",
            "iteration 5 centroid difference 0.002060422696450608\n",
            "iteration 6 centroid difference 0.004406775086807856\n",
            "iteration 7 centroid difference 0.0029287570805392785\n",
            "iteration 8 centroid difference 0.0012839698014596255\n",
            "iteration 9 centroid difference 0.0012661694351033806\n"
          ]
        }
      ]
    }
  ]
}