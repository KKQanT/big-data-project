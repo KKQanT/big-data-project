{
  "nbformat": 4,
  "nbformat_minor": 0,
  "metadata": {
    "colab": {
      "provenance": []
    },
    "kernelspec": {
      "name": "python3",
      "display_name": "Python 3"
    },
    "language_info": {
      "name": "python"
    }
  },
  "cells": [
    {
      "cell_type": "code",
      "source": [
        "!pip install pyspark"
      ],
      "metadata": {
        "colab": {
          "base_uri": "https://localhost:8080/"
        },
        "id": "Rf8rNbqSBq35",
        "outputId": "f8373e9c-63c6-4bc4-da55-b9455ba2fd6c"
      },
      "execution_count": 1,
      "outputs": [
        {
          "output_type": "stream",
          "name": "stdout",
          "text": [
            "Collecting pyspark\n",
            "  Downloading pyspark-3.5.1.tar.gz (317.0 MB)\n",
            "\u001b[2K     \u001b[90m━━━━━━━━━━━━━━━━━━━━━━━━━━━━━━━━━━━━━━━━\u001b[0m \u001b[32m317.0/317.0 MB\u001b[0m \u001b[31m3.8 MB/s\u001b[0m eta \u001b[36m0:00:00\u001b[0m\n",
            "\u001b[?25h  Preparing metadata (setup.py) ... \u001b[?25l\u001b[?25hdone\n",
            "Requirement already satisfied: py4j==0.10.9.7 in /usr/local/lib/python3.10/dist-packages (from pyspark) (0.10.9.7)\n",
            "Building wheels for collected packages: pyspark\n",
            "  Building wheel for pyspark (setup.py) ... \u001b[?25l\u001b[?25hdone\n",
            "  Created wheel for pyspark: filename=pyspark-3.5.1-py2.py3-none-any.whl size=317488491 sha256=0da1ffdacae123e3ca83971d065646d234102375c1e0825b98fc1e64f489b105\n",
            "  Stored in directory: /root/.cache/pip/wheels/80/1d/60/2c256ed38dddce2fdd93be545214a63e02fbd8d74fb0b7f3a6\n",
            "Successfully built pyspark\n",
            "Installing collected packages: pyspark\n",
            "Successfully installed pyspark-3.5.1\n"
          ]
        }
      ]
    },
    {
      "cell_type": "code",
      "source": [
        "from pyspark.sql import SparkSession\n",
        "import pyspark.sql.functions as F\n",
        "import pandas as pd\n",
        "import numpy as np\n",
        "import time\n",
        "\n",
        "spark = SparkSession \\\n",
        "        .builder \\\n",
        "        .master(\"local[*]\") \\\n",
        "        .appName(\"k-prototype-global\") \\\n",
        "        .getOrCreate()\n",
        "\n",
        "sc = spark.sparkContext"
      ],
      "metadata": {
        "id": "3PpXY0L1BRQY"
      },
      "execution_count": 2,
      "outputs": []
    },
    {
      "cell_type": "code",
      "source": [
        "df = pd.read_csv(\"Retail_Transaction_Dataset.csv\")\n",
        "df = df.dropna()\n",
        "len(df)"
      ],
      "metadata": {
        "colab": {
          "base_uri": "https://localhost:8080/"
        },
        "id": "aNNIEzDKvhuF",
        "outputId": "f76e86c6-2543-4c22-a278-8861f653dca0"
      },
      "execution_count": 23,
      "outputs": [
        {
          "output_type": "execute_result",
          "data": {
            "text/plain": [
              "100000"
            ]
          },
          "metadata": {},
          "execution_count": 23
        }
      ]
    },
    {
      "cell_type": "code",
      "source": [
        "# df = pd.read_csv(\"data.csv\")\n",
        "\n",
        "\n",
        "labels = [\"Quantity\", \"Price\", \"PaymentMethod\",\"ProductID\"]\n",
        "\n",
        "# from which label are the categorical variables\n",
        "categorical_labels_start_index = 2\n",
        "\n",
        "labels[categorical_labels_start_index:]"
      ],
      "metadata": {
        "colab": {
          "base_uri": "https://localhost:8080/"
        },
        "id": "GPGQGwQ4cwUv",
        "outputId": "fd256de8-8556-4347-cd00-2f3dc46bcaac"
      },
      "execution_count": 24,
      "outputs": [
        {
          "output_type": "execute_result",
          "data": {
            "text/plain": [
              "['PaymentMethod', 'ProductID']"
            ]
          },
          "metadata": {},
          "execution_count": 24
        }
      ]
    },
    {
      "cell_type": "code",
      "source": [
        "df = df[labels]\n",
        "df.head()"
      ],
      "metadata": {
        "colab": {
          "base_uri": "https://localhost:8080/",
          "height": 206
        },
        "id": "ak6cmlibdIft",
        "outputId": "d6b9f060-5770-4464-da5b-868a135dc989"
      },
      "execution_count": 25,
      "outputs": [
        {
          "output_type": "execute_result",
          "data": {
            "text/plain": [
              "   Quantity      Price PaymentMethod ProductID\n",
              "0         7  80.079844          Cash         C\n",
              "1         4  75.195229          Cash         C\n",
              "2         8  31.528816          Cash         A\n",
              "3         5  98.880218        PayPal         D\n",
              "4         7  93.188512          Cash         A"
            ],
            "text/html": [
              "\n",
              "  <div id=\"df-b0a16d75-f5b6-444b-b83b-756100e94f6b\" class=\"colab-df-container\">\n",
              "    <div>\n",
              "<style scoped>\n",
              "    .dataframe tbody tr th:only-of-type {\n",
              "        vertical-align: middle;\n",
              "    }\n",
              "\n",
              "    .dataframe tbody tr th {\n",
              "        vertical-align: top;\n",
              "    }\n",
              "\n",
              "    .dataframe thead th {\n",
              "        text-align: right;\n",
              "    }\n",
              "</style>\n",
              "<table border=\"1\" class=\"dataframe\">\n",
              "  <thead>\n",
              "    <tr style=\"text-align: right;\">\n",
              "      <th></th>\n",
              "      <th>Quantity</th>\n",
              "      <th>Price</th>\n",
              "      <th>PaymentMethod</th>\n",
              "      <th>ProductID</th>\n",
              "    </tr>\n",
              "  </thead>\n",
              "  <tbody>\n",
              "    <tr>\n",
              "      <th>0</th>\n",
              "      <td>7</td>\n",
              "      <td>80.079844</td>\n",
              "      <td>Cash</td>\n",
              "      <td>C</td>\n",
              "    </tr>\n",
              "    <tr>\n",
              "      <th>1</th>\n",
              "      <td>4</td>\n",
              "      <td>75.195229</td>\n",
              "      <td>Cash</td>\n",
              "      <td>C</td>\n",
              "    </tr>\n",
              "    <tr>\n",
              "      <th>2</th>\n",
              "      <td>8</td>\n",
              "      <td>31.528816</td>\n",
              "      <td>Cash</td>\n",
              "      <td>A</td>\n",
              "    </tr>\n",
              "    <tr>\n",
              "      <th>3</th>\n",
              "      <td>5</td>\n",
              "      <td>98.880218</td>\n",
              "      <td>PayPal</td>\n",
              "      <td>D</td>\n",
              "    </tr>\n",
              "    <tr>\n",
              "      <th>4</th>\n",
              "      <td>7</td>\n",
              "      <td>93.188512</td>\n",
              "      <td>Cash</td>\n",
              "      <td>A</td>\n",
              "    </tr>\n",
              "  </tbody>\n",
              "</table>\n",
              "</div>\n",
              "    <div class=\"colab-df-buttons\">\n",
              "\n",
              "  <div class=\"colab-df-container\">\n",
              "    <button class=\"colab-df-convert\" onclick=\"convertToInteractive('df-b0a16d75-f5b6-444b-b83b-756100e94f6b')\"\n",
              "            title=\"Convert this dataframe to an interactive table.\"\n",
              "            style=\"display:none;\">\n",
              "\n",
              "  <svg xmlns=\"http://www.w3.org/2000/svg\" height=\"24px\" viewBox=\"0 -960 960 960\">\n",
              "    <path d=\"M120-120v-720h720v720H120Zm60-500h600v-160H180v160Zm220 220h160v-160H400v160Zm0 220h160v-160H400v160ZM180-400h160v-160H180v160Zm440 0h160v-160H620v160ZM180-180h160v-160H180v160Zm440 0h160v-160H620v160Z\"/>\n",
              "  </svg>\n",
              "    </button>\n",
              "\n",
              "  <style>\n",
              "    .colab-df-container {\n",
              "      display:flex;\n",
              "      gap: 12px;\n",
              "    }\n",
              "\n",
              "    .colab-df-convert {\n",
              "      background-color: #E8F0FE;\n",
              "      border: none;\n",
              "      border-radius: 50%;\n",
              "      cursor: pointer;\n",
              "      display: none;\n",
              "      fill: #1967D2;\n",
              "      height: 32px;\n",
              "      padding: 0 0 0 0;\n",
              "      width: 32px;\n",
              "    }\n",
              "\n",
              "    .colab-df-convert:hover {\n",
              "      background-color: #E2EBFA;\n",
              "      box-shadow: 0px 1px 2px rgba(60, 64, 67, 0.3), 0px 1px 3px 1px rgba(60, 64, 67, 0.15);\n",
              "      fill: #174EA6;\n",
              "    }\n",
              "\n",
              "    .colab-df-buttons div {\n",
              "      margin-bottom: 4px;\n",
              "    }\n",
              "\n",
              "    [theme=dark] .colab-df-convert {\n",
              "      background-color: #3B4455;\n",
              "      fill: #D2E3FC;\n",
              "    }\n",
              "\n",
              "    [theme=dark] .colab-df-convert:hover {\n",
              "      background-color: #434B5C;\n",
              "      box-shadow: 0px 1px 3px 1px rgba(0, 0, 0, 0.15);\n",
              "      filter: drop-shadow(0px 1px 2px rgba(0, 0, 0, 0.3));\n",
              "      fill: #FFFFFF;\n",
              "    }\n",
              "  </style>\n",
              "\n",
              "    <script>\n",
              "      const buttonEl =\n",
              "        document.querySelector('#df-b0a16d75-f5b6-444b-b83b-756100e94f6b button.colab-df-convert');\n",
              "      buttonEl.style.display =\n",
              "        google.colab.kernel.accessAllowed ? 'block' : 'none';\n",
              "\n",
              "      async function convertToInteractive(key) {\n",
              "        const element = document.querySelector('#df-b0a16d75-f5b6-444b-b83b-756100e94f6b');\n",
              "        const dataTable =\n",
              "          await google.colab.kernel.invokeFunction('convertToInteractive',\n",
              "                                                    [key], {});\n",
              "        if (!dataTable) return;\n",
              "\n",
              "        const docLinkHtml = 'Like what you see? Visit the ' +\n",
              "          '<a target=\"_blank\" href=https://colab.research.google.com/notebooks/data_table.ipynb>data table notebook</a>'\n",
              "          + ' to learn more about interactive tables.';\n",
              "        element.innerHTML = '';\n",
              "        dataTable['output_type'] = 'display_data';\n",
              "        await google.colab.output.renderOutput(dataTable, element);\n",
              "        const docLink = document.createElement('div');\n",
              "        docLink.innerHTML = docLinkHtml;\n",
              "        element.appendChild(docLink);\n",
              "      }\n",
              "    </script>\n",
              "  </div>\n",
              "\n",
              "\n",
              "<div id=\"df-8437874a-7331-4b8e-bdec-d0a4e3eb80c6\">\n",
              "  <button class=\"colab-df-quickchart\" onclick=\"quickchart('df-8437874a-7331-4b8e-bdec-d0a4e3eb80c6')\"\n",
              "            title=\"Suggest charts\"\n",
              "            style=\"display:none;\">\n",
              "\n",
              "<svg xmlns=\"http://www.w3.org/2000/svg\" height=\"24px\"viewBox=\"0 0 24 24\"\n",
              "     width=\"24px\">\n",
              "    <g>\n",
              "        <path d=\"M19 3H5c-1.1 0-2 .9-2 2v14c0 1.1.9 2 2 2h14c1.1 0 2-.9 2-2V5c0-1.1-.9-2-2-2zM9 17H7v-7h2v7zm4 0h-2V7h2v10zm4 0h-2v-4h2v4z\"/>\n",
              "    </g>\n",
              "</svg>\n",
              "  </button>\n",
              "\n",
              "<style>\n",
              "  .colab-df-quickchart {\n",
              "      --bg-color: #E8F0FE;\n",
              "      --fill-color: #1967D2;\n",
              "      --hover-bg-color: #E2EBFA;\n",
              "      --hover-fill-color: #174EA6;\n",
              "      --disabled-fill-color: #AAA;\n",
              "      --disabled-bg-color: #DDD;\n",
              "  }\n",
              "\n",
              "  [theme=dark] .colab-df-quickchart {\n",
              "      --bg-color: #3B4455;\n",
              "      --fill-color: #D2E3FC;\n",
              "      --hover-bg-color: #434B5C;\n",
              "      --hover-fill-color: #FFFFFF;\n",
              "      --disabled-bg-color: #3B4455;\n",
              "      --disabled-fill-color: #666;\n",
              "  }\n",
              "\n",
              "  .colab-df-quickchart {\n",
              "    background-color: var(--bg-color);\n",
              "    border: none;\n",
              "    border-radius: 50%;\n",
              "    cursor: pointer;\n",
              "    display: none;\n",
              "    fill: var(--fill-color);\n",
              "    height: 32px;\n",
              "    padding: 0;\n",
              "    width: 32px;\n",
              "  }\n",
              "\n",
              "  .colab-df-quickchart:hover {\n",
              "    background-color: var(--hover-bg-color);\n",
              "    box-shadow: 0 1px 2px rgba(60, 64, 67, 0.3), 0 1px 3px 1px rgba(60, 64, 67, 0.15);\n",
              "    fill: var(--button-hover-fill-color);\n",
              "  }\n",
              "\n",
              "  .colab-df-quickchart-complete:disabled,\n",
              "  .colab-df-quickchart-complete:disabled:hover {\n",
              "    background-color: var(--disabled-bg-color);\n",
              "    fill: var(--disabled-fill-color);\n",
              "    box-shadow: none;\n",
              "  }\n",
              "\n",
              "  .colab-df-spinner {\n",
              "    border: 2px solid var(--fill-color);\n",
              "    border-color: transparent;\n",
              "    border-bottom-color: var(--fill-color);\n",
              "    animation:\n",
              "      spin 1s steps(1) infinite;\n",
              "  }\n",
              "\n",
              "  @keyframes spin {\n",
              "    0% {\n",
              "      border-color: transparent;\n",
              "      border-bottom-color: var(--fill-color);\n",
              "      border-left-color: var(--fill-color);\n",
              "    }\n",
              "    20% {\n",
              "      border-color: transparent;\n",
              "      border-left-color: var(--fill-color);\n",
              "      border-top-color: var(--fill-color);\n",
              "    }\n",
              "    30% {\n",
              "      border-color: transparent;\n",
              "      border-left-color: var(--fill-color);\n",
              "      border-top-color: var(--fill-color);\n",
              "      border-right-color: var(--fill-color);\n",
              "    }\n",
              "    40% {\n",
              "      border-color: transparent;\n",
              "      border-right-color: var(--fill-color);\n",
              "      border-top-color: var(--fill-color);\n",
              "    }\n",
              "    60% {\n",
              "      border-color: transparent;\n",
              "      border-right-color: var(--fill-color);\n",
              "    }\n",
              "    80% {\n",
              "      border-color: transparent;\n",
              "      border-right-color: var(--fill-color);\n",
              "      border-bottom-color: var(--fill-color);\n",
              "    }\n",
              "    90% {\n",
              "      border-color: transparent;\n",
              "      border-bottom-color: var(--fill-color);\n",
              "    }\n",
              "  }\n",
              "</style>\n",
              "\n",
              "  <script>\n",
              "    async function quickchart(key) {\n",
              "      const quickchartButtonEl =\n",
              "        document.querySelector('#' + key + ' button');\n",
              "      quickchartButtonEl.disabled = true;  // To prevent multiple clicks.\n",
              "      quickchartButtonEl.classList.add('colab-df-spinner');\n",
              "      try {\n",
              "        const charts = await google.colab.kernel.invokeFunction(\n",
              "            'suggestCharts', [key], {});\n",
              "      } catch (error) {\n",
              "        console.error('Error during call to suggestCharts:', error);\n",
              "      }\n",
              "      quickchartButtonEl.classList.remove('colab-df-spinner');\n",
              "      quickchartButtonEl.classList.add('colab-df-quickchart-complete');\n",
              "    }\n",
              "    (() => {\n",
              "      let quickchartButtonEl =\n",
              "        document.querySelector('#df-8437874a-7331-4b8e-bdec-d0a4e3eb80c6 button');\n",
              "      quickchartButtonEl.style.display =\n",
              "        google.colab.kernel.accessAllowed ? 'block' : 'none';\n",
              "    })();\n",
              "  </script>\n",
              "</div>\n",
              "    </div>\n",
              "  </div>\n"
            ],
            "application/vnd.google.colaboratory.intrinsic+json": {
              "type": "dataframe",
              "variable_name": "df",
              "summary": "{\n  \"name\": \"df\",\n  \"rows\": 100000,\n  \"fields\": [\n    {\n      \"column\": \"Quantity\",\n      \"properties\": {\n        \"dtype\": \"number\",\n        \"std\": 2,\n        \"min\": 1,\n        \"max\": 9,\n        \"num_unique_values\": 9,\n        \"samples\": [\n          1,\n          4,\n          6\n        ],\n        \"semantic_type\": \"\",\n        \"description\": \"\"\n      }\n    },\n    {\n      \"column\": \"Price\",\n      \"properties\": {\n        \"dtype\": \"number\",\n        \"std\": 25.971566969856188,\n        \"min\": 10.00043007,\n        \"max\": 99.99928381,\n        \"num_unique_values\": 100000,\n        \"samples\": [\n          39.43546965,\n          30.7250779,\n          52.49121716\n        ],\n        \"semantic_type\": \"\",\n        \"description\": \"\"\n      }\n    },\n    {\n      \"column\": \"PaymentMethod\",\n      \"properties\": {\n        \"dtype\": \"category\",\n        \"num_unique_values\": 4,\n        \"samples\": [\n          \"PayPal\",\n          \"Credit Card\",\n          \"Cash\"\n        ],\n        \"semantic_type\": \"\",\n        \"description\": \"\"\n      }\n    },\n    {\n      \"column\": \"ProductID\",\n      \"properties\": {\n        \"dtype\": \"category\",\n        \"num_unique_values\": 4,\n        \"samples\": [\n          \"A\",\n          \"B\",\n          \"C\"\n        ],\n        \"semantic_type\": \"\",\n        \"description\": \"\"\n      }\n    }\n  ]\n}"
            }
          },
          "metadata": {},
          "execution_count": 25
        }
      ]
    },
    {
      "cell_type": "code",
      "source": [
        "df = spark.createDataFrame(df)\n",
        "df.show(5)"
      ],
      "metadata": {
        "colab": {
          "base_uri": "https://localhost:8080/"
        },
        "id": "Lw_DykFgCKgB",
        "outputId": "a03a7914-ca14-468e-c192-cd6494b1ba7e"
      },
      "execution_count": 26,
      "outputs": [
        {
          "output_type": "stream",
          "name": "stdout",
          "text": [
            "+--------+-----------+-------------+---------+\n",
            "|Quantity|      Price|PaymentMethod|ProductID|\n",
            "+--------+-----------+-------------+---------+\n",
            "|       7|80.07984415|         Cash|        C|\n",
            "|       4|75.19522942|         Cash|        C|\n",
            "|       8|31.52881648|         Cash|        A|\n",
            "|       5|98.88021828|       PayPal|        D|\n",
            "|       7|93.18851246|         Cash|        A|\n",
            "+--------+-----------+-------------+---------+\n",
            "only showing top 5 rows\n",
            "\n"
          ]
        }
      ]
    },
    {
      "cell_type": "code",
      "source": [
        "df.printSchema()"
      ],
      "metadata": {
        "colab": {
          "base_uri": "https://localhost:8080/"
        },
        "id": "8DIZbXpldfO8",
        "outputId": "2ed4c676-c5e4-4867-f884-5e9434793fd6"
      },
      "execution_count": 27,
      "outputs": [
        {
          "output_type": "stream",
          "name": "stdout",
          "text": [
            "root\n",
            " |-- Quantity: long (nullable = true)\n",
            " |-- Price: double (nullable = true)\n",
            " |-- PaymentMethod: string (nullable = true)\n",
            " |-- ProductID: string (nullable = true)\n",
            "\n"
          ]
        }
      ]
    },
    {
      "cell_type": "markdown",
      "source": [
        "## Normalising the data"
      ],
      "metadata": {
        "id": "tcXfTdU4CxMZ"
      }
    },
    {
      "cell_type": "code",
      "source": [
        "# min max normalisation for the numerical data\n",
        "for col in df.columns[:categorical_labels_start_index]:\n",
        "  minimum = df.agg({col: \"min\"}).collect()[0][0]\n",
        "  maximum = df.agg({col: \"max\"}).collect()[0][0]\n",
        "\n",
        "  df = df.withColumn(col + '_norm', (df[col] - minimum) / (maximum - minimum))"
      ],
      "metadata": {
        "id": "f0mQS-D_Dqdn"
      },
      "execution_count": 28,
      "outputs": []
    },
    {
      "cell_type": "code",
      "source": [
        "df.show(10)"
      ],
      "metadata": {
        "colab": {
          "base_uri": "https://localhost:8080/"
        },
        "id": "RO0aeuciEOxZ",
        "outputId": "c14da036-3bc7-4e7b-cfde-7cc6169102ff"
      },
      "execution_count": 29,
      "outputs": [
        {
          "output_type": "stream",
          "name": "stdout",
          "text": [
            "+--------+-----------+-------------+---------+-------------+-------------------+\n",
            "|Quantity|      Price|PaymentMethod|ProductID|Quantity_norm|         Price_norm|\n",
            "+--------+-----------+-------------+---------+-------------+-------------------+\n",
            "|       7|80.07984415|         Cash|        C|         0.75| 0.7786700737595417|\n",
            "|       4|75.19522942|         Cash|        C|        0.375| 0.7243958855114194|\n",
            "|       8|31.52881648|         Cash|        A|        0.875|0.23920734004228444|\n",
            "|       5|98.88021828|       PayPal|        D|          0.5| 0.9875657801905688|\n",
            "|       7|93.18851246|         Cash|        A|         0.75| 0.9243237989488644|\n",
            "|       3|54.09315249|         Cash|        D|         0.25|0.48992537779848405|\n",
            "|       7|13.12193739|       PayPal|        D|         0.75| 0.0346838564079694|\n",
            "|       8|56.02516419|   Debit Card|        A|        0.875| 0.5113924478745256|\n",
            "|       5|23.85798105|  Credit Card|        B|          0.5|0.15397474972329578|\n",
            "|       4| 63.3427768|   Debit Card|        D|        0.375| 0.5927002902070518|\n",
            "+--------+-----------+-------------+---------+-------------+-------------------+\n",
            "only showing top 10 rows\n",
            "\n"
          ]
        }
      ]
    },
    {
      "cell_type": "code",
      "source": [
        "df_norm = df.drop(\"Quantity\").drop(\"Price\")\n",
        "df_norm.show(5)"
      ],
      "metadata": {
        "colab": {
          "base_uri": "https://localhost:8080/"
        },
        "id": "cv9CfAz7EVw-",
        "outputId": "179546c4-2021-4bf5-bf39-491f9b95a1a4"
      },
      "execution_count": 31,
      "outputs": [
        {
          "output_type": "stream",
          "name": "stdout",
          "text": [
            "+-------------+---------+-------------+-------------------+\n",
            "|PaymentMethod|ProductID|Quantity_norm|         Price_norm|\n",
            "+-------------+---------+-------------+-------------------+\n",
            "|         Cash|        C|         0.75| 0.7786700737595417|\n",
            "|         Cash|        C|        0.375| 0.7243958855114194|\n",
            "|         Cash|        A|        0.875|0.23920734004228444|\n",
            "|       PayPal|        D|          0.5| 0.9875657801905688|\n",
            "|         Cash|        A|         0.75| 0.9243237989488644|\n",
            "+-------------+---------+-------------+-------------------+\n",
            "only showing top 5 rows\n",
            "\n"
          ]
        }
      ]
    },
    {
      "cell_type": "markdown",
      "source": [
        "## K prototype"
      ],
      "metadata": {
        "id": "XVra7eZIGhgN"
      }
    },
    {
      "cell_type": "code",
      "source": [
        "# make into partitions\n",
        "rdd = df_norm.rdd.repartition(100)\n",
        "rdd.cache()"
      ],
      "metadata": {
        "colab": {
          "base_uri": "https://localhost:8080/"
        },
        "id": "Mxrpduk1FLQs",
        "outputId": "e37b901e-3c4c-4fa7-c1cb-682961c14068"
      },
      "execution_count": 32,
      "outputs": [
        {
          "output_type": "execute_result",
          "data": {
            "text/plain": [
              "MapPartitionsRDD[76] at coalesce at NativeMethodAccessorImpl.java:0"
            ]
          },
          "metadata": {},
          "execution_count": 32
        }
      ]
    },
    {
      "cell_type": "code",
      "source": [
        "def to_numpy_numerical(row, index):\n",
        "  return np.array(list(row.asDict().values())[index:])"
      ],
      "metadata": {
        "id": "SFy6tdzJo0rp"
      },
      "execution_count": 33,
      "outputs": []
    },
    {
      "cell_type": "code",
      "source": [
        "def to_numpy_categorical(row, index):\n",
        "  return np.array(list(row.asDict().values())[:index])"
      ],
      "metadata": {
        "id": "It2I_3Rbqc-F"
      },
      "execution_count": 34,
      "outputs": []
    },
    {
      "cell_type": "markdown",
      "source": [
        "## Initializing centroids"
      ],
      "metadata": {
        "id": "qYHeGCqKHsJP"
      }
    },
    {
      "cell_type": "code",
      "source": [
        "index = len(labels) - categorical_labels_start_index\n",
        "numerical_rdd = rdd.map(lambda row: to_numpy_numerical(row, index))\n",
        "\n",
        "# initialize k clusters\n",
        "k = 3\n",
        "seed = 42\n",
        "numerical_centres = numerical_rdd.takeSample(False, k, seed)"
      ],
      "metadata": {
        "id": "3_I54JUNpSqF"
      },
      "execution_count": 35,
      "outputs": []
    },
    {
      "cell_type": "code",
      "source": [
        "numerical_centres"
      ],
      "metadata": {
        "colab": {
          "base_uri": "https://localhost:8080/"
        },
        "id": "z5k-JCb7p9I8",
        "outputId": "bba4e5a8-b706-462d-fea7-ed6761bfee7a"
      },
      "execution_count": 36,
      "outputs": [
        {
          "output_type": "execute_result",
          "data": {
            "text/plain": [
              "[array([0.125     , 0.81932049]),\n",
              " array([0.625     , 0.05905246]),\n",
              " array([0.5       , 0.38920014])]"
            ]
          },
          "metadata": {},
          "execution_count": 36
        }
      ]
    },
    {
      "cell_type": "code",
      "source": [
        "categorical_rdd = rdd.map(lambda row: to_numpy_categorical(row, index))\n",
        "categorical_centres = categorical_rdd.takeSample(False, k, seed)"
      ],
      "metadata": {
        "id": "NrNyF7J7qldi"
      },
      "execution_count": 37,
      "outputs": []
    },
    {
      "cell_type": "code",
      "source": [
        "categorical_centres"
      ],
      "metadata": {
        "colab": {
          "base_uri": "https://localhost:8080/"
        },
        "id": "in9XgUGHqyiC",
        "outputId": "0cb20d73-4a41-4ea4-ad91-c9ca12e20a7e"
      },
      "execution_count": 38,
      "outputs": [
        {
          "output_type": "execute_result",
          "data": {
            "text/plain": [
              "[array(['Cash', 'D'], dtype='<U4'),\n",
              " array(['Cash', 'B'], dtype='<U4'),\n",
              " array(['PayPal', 'D'], dtype='<U6')]"
            ]
          },
          "metadata": {},
          "execution_count": 38
        }
      ]
    },
    {
      "cell_type": "code",
      "source": [
        "# broadcast the centre values\n",
        "numerical_centres_bc = sc.broadcast(numerical_centres)\n",
        "categorical_centres_bc = sc.broadcast(categorical_centres)"
      ],
      "metadata": {
        "id": "4nTPocA5H735"
      },
      "execution_count": 39,
      "outputs": []
    },
    {
      "cell_type": "markdown",
      "source": [
        "## Distance measures"
      ],
      "metadata": {
        "id": "byptSPJ7HkvY"
      }
    },
    {
      "cell_type": "code",
      "source": [
        "# find the nearest centroid\n",
        "def euclidean_distance(vect):\n",
        "  return np.sqrt(np.sum((numerical_centres_bc.value - vect)**2, axis=1))\n",
        "\n",
        "def hamming_distance(vect):\n",
        "  return 0.2 * np.sum(vect != categorical_centres_bc.value, axis=1)\n"
      ],
      "metadata": {
        "id": "42ZwYh9CrRtu"
      },
      "execution_count": 40,
      "outputs": []
    },
    {
      "cell_type": "code",
      "source": [
        "# find the distance to the centroid for numerical data\n",
        "numerical_rdd.map(lambda vect: euclidean_distance(vect)).collect()[:10]\n"
      ],
      "metadata": {
        "colab": {
          "base_uri": "https://localhost:8080/"
        },
        "id": "m5dnWDFhRIjP",
        "outputId": "c4d8723e-615c-4508-8cf6-500685118be6"
      },
      "execution_count": 41,
      "outputs": [
        {
          "output_type": "execute_result",
          "data": {
            "text/plain": [
              "[array([1.06476842, 0.4052192 , 0.53027045]),\n",
              " array([0.170156  , 1.07587277, 0.74002971]),\n",
              " array([0.67976008, 0.50857   , 0.29834675]),\n",
              " array([0.55788538, 0.51280875, 0.221337  ]),\n",
              " array([1.01813982, 0.44506683, 0.50811367]),\n",
              " array([0.13868487, 1.03130047, 0.70020517]),\n",
              " array([0.2601828 , 0.86907895, 0.5175202 ]),\n",
              " array([0.8811789 , 0.75570532, 0.59686186]),\n",
              " array([0.7622144 , 0.25321445, 0.31572728]),\n",
              " array([0.74549287, 0.37585447, 0.39422597])]"
            ]
          },
          "metadata": {},
          "execution_count": 41
        }
      ]
    },
    {
      "cell_type": "code",
      "source": [
        "# find the distance to the centroid for categorical data\n",
        "categorical_rdd.map(lambda vect: hamming_distance(vect)).collect()[:10]"
      ],
      "metadata": {
        "colab": {
          "base_uri": "https://localhost:8080/"
        },
        "id": "Nwo1HiXfSbxw",
        "outputId": "f9ae5091-8a53-4b9e-bc4f-1233fc425c51"
      },
      "execution_count": 42,
      "outputs": [
        {
          "output_type": "execute_result",
          "data": {
            "text/plain": [
              "[array([0.4, 0.4, 0.4]),\n",
              " array([0.4, 0.2, 0.4]),\n",
              " array([0.4, 0.4, 0.2]),\n",
              " array([0.4, 0.4, 0.4]),\n",
              " array([0.4, 0.4, 0.4]),\n",
              " array([0.2, 0.4, 0. ]),\n",
              " array([0.2, 0.4, 0.2]),\n",
              " array([0. , 0.2, 0.2]),\n",
              " array([0. , 0.2, 0.2]),\n",
              " array([0. , 0.2, 0.2])]"
            ]
          },
          "metadata": {},
          "execution_count": 42
        }
      ]
    },
    {
      "cell_type": "code",
      "source": [
        "def get_total_distance(numerical_vect, categorical_vect):\n",
        "  numerical_distance = euclidean_distance(numerical_vect)\n",
        "  categorical_distance = hamming_distance(categorical_vect)\n",
        "  total_distance = numerical_distance + categorical_distance\n",
        "  return total_distance"
      ],
      "metadata": {
        "id": "7p_tgbR5Yx2B"
      },
      "execution_count": 43,
      "outputs": []
    },
    {
      "cell_type": "code",
      "source": [
        "total_distance_rdd = numerical_rdd.zip(categorical_rdd).map(lambda x: get_total_distance(x[0], x[1]))\n",
        "\n",
        "# find the centroid which has the closest distance\n",
        "closest_centroid_rdd = total_distance_rdd.map(lambda x: np.argmin(x))\n",
        "closest_centroid_rdd.collect()[:10]"
      ],
      "metadata": {
        "colab": {
          "base_uri": "https://localhost:8080/"
        },
        "id": "lddtehAcD_nd",
        "outputId": "67c86df1-4688-4195-fd04-92e8c7f5ebb7"
      },
      "execution_count": 44,
      "outputs": [
        {
          "output_type": "execute_result",
          "data": {
            "text/plain": [
              "[1, 0, 2, 2, 1, 0, 0, 2, 1, 1]"
            ]
          },
          "metadata": {},
          "execution_count": 44
        }
      ]
    },
    {
      "cell_type": "code",
      "source": [
        "centroid_categorical_value = closest_centroid_rdd.zip(categorical_rdd).map((lambda x: (x[0],x[1])))\n"
      ],
      "metadata": {
        "id": "R-cU-d-nE438"
      },
      "execution_count": 45,
      "outputs": []
    },
    {
      "cell_type": "code",
      "source": [
        "# closest_centroid_rdd.zip(categorical_rdd).map((lambda x: (x[0],x[1]))).collect()[:10]"
      ],
      "metadata": {
        "id": "EpJmMY5LZq8t"
      },
      "execution_count": 46,
      "outputs": []
    },
    {
      "cell_type": "code",
      "source": [
        "# closest = numerical_rdd.zip(categorical_rdd).map(lambda x: nearest_centroid(x[0], x[1]))\n",
        "\n",
        "closest_centroid_rdd.zip(categorical_rdd).map((lambda x: (x[0],x[1]))).collect()[:10]"
      ],
      "metadata": {
        "colab": {
          "base_uri": "https://localhost:8080/"
        },
        "id": "RGnNxJl7dl8Z",
        "outputId": "21716d64-91d4-4110-92cd-9b931a88de1b"
      },
      "execution_count": 47,
      "outputs": [
        {
          "output_type": "execute_result",
          "data": {
            "text/plain": [
              "[(1, array(['Credit Card', 'A'], dtype='<U11')),\n",
              " (0, array(['Credit Card', 'B'], dtype='<U11')),\n",
              " (2, array(['PayPal', 'A'], dtype='<U6')),\n",
              " (2, array(['Debit Card', 'C'], dtype='<U10')),\n",
              " (1, array(['Credit Card', 'C'], dtype='<U11')),\n",
              " (0, array(['PayPal', 'D'], dtype='<U6')),\n",
              " (0, array(['Debit Card', 'D'], dtype='<U10')),\n",
              " (2, array(['Cash', 'D'], dtype='<U4')),\n",
              " (1, array(['Cash', 'D'], dtype='<U4')),\n",
              " (1, array(['Cash', 'D'], dtype='<U4'))]"
            ]
          },
          "metadata": {},
          "execution_count": 47
        }
      ]
    },
    {
      "cell_type": "markdown",
      "source": [
        "## find the new centroid for categorical part"
      ],
      "metadata": {
        "id": "EZTSAOo3Glxh"
      }
    },
    {
      "cell_type": "code",
      "source": [
        "centroid_categorical_value = closest_centroid_rdd.zip(categorical_rdd).map((lambda x: (x[0],x[1])))\n",
        "\n",
        "grouped_rdd = centroid_categorical_value.groupByKey().mapValues(list)\n",
        "\n",
        "from collections import Counter\n",
        "import numpy as np\n",
        "\n",
        "def find_mode(values):\n",
        "    counts = Counter(values)\n",
        "    return np.array([max(counts, key=counts.get)])\n",
        "\n",
        "modes = grouped_rdd.map(lambda x: tuple(find_mode(column) for column in zip(*x[1])))\n",
        "result = np.array(modes.collect())\n",
        "numpy_arrays = [np.array(row) for row in result.squeeze()]\n",
        "numpy_arrays\n",
        "\n",
        "# categorical_centres_bc = sc.broadcast(numpy_arrays)\n",
        "# categorical_centres_bc.value"
      ],
      "metadata": {
        "colab": {
          "base_uri": "https://localhost:8080/"
        },
        "id": "7-Rc4V0FeqcX",
        "outputId": "8dcb7d25-007b-4ec6-ac68-80b1dad2ee84"
      },
      "execution_count": 48,
      "outputs": [
        {
          "output_type": "execute_result",
          "data": {
            "text/plain": [
              "[array(['Cash', 'D'], dtype='<U6'),\n",
              " array(['Cash', 'B'], dtype='<U6'),\n",
              " array(['PayPal', 'D'], dtype='<U6')]"
            ]
          },
          "metadata": {},
          "execution_count": 48
        }
      ]
    },
    {
      "cell_type": "markdown",
      "source": [
        "## find the new centroid for numerical part"
      ],
      "metadata": {
        "id": "JeRA310IGr1A"
      }
    },
    {
      "cell_type": "code",
      "source": [
        "centroid_numerical_value = closest_centroid_rdd.zip(numerical_rdd).map((lambda x: (x[0],x[1])))\n",
        "\n",
        "new_centres = centroid_numerical_value.map(lambda x: ((x[0]),(1,x[1])) ).reduceByKey(lambda x, y: (x[0]+y[0], x[1]+y[1]))\n",
        "new_c = new_centres.map(lambda x: x[1][1]/x[1][0]).collect()\n",
        "new_c\n",
        "# numerical_centres_bc = sc.broadcast(new_c)\n",
        "# numerical_centres_bc.value"
      ],
      "metadata": {
        "colab": {
          "base_uri": "https://localhost:8080/"
        },
        "id": "ze3IyhOfGvBx",
        "outputId": "8a597a0d-9eb9-4350-e1c9-6c5583f63453"
      },
      "execution_count": 49,
      "outputs": [
        {
          "output_type": "execute_result",
          "data": {
            "text/plain": [
              "[array([0.24929481, 0.75196773]),\n",
              " array([0.65454088, 0.23217833]),\n",
              " array([0.56850927, 0.49209791])]"
            ]
          },
          "metadata": {},
          "execution_count": 49
        }
      ]
    },
    {
      "cell_type": "markdown",
      "source": [
        "## training"
      ],
      "metadata": {
        "id": "Cv8rsw3MHSNw"
      }
    },
    {
      "cell_type": "code",
      "source": [
        "max_iter = 10\n",
        "\n",
        "start = time.time()\n",
        "for j in range(max_iter):\n",
        "  # find the points which are closest\n",
        "  total_distance_rdd = numerical_rdd.zip(categorical_rdd).map(lambda x: get_total_distance(x[0], x[1]))\n",
        "\n",
        "  # find the centroid which has the closest distance\n",
        "  closest_centroid_rdd = total_distance_rdd.map(lambda x: np.argmin(x))\n",
        "\n",
        "\n",
        "  # find the new centroid for categorical data\n",
        "  centroid_categorical_value = closest_centroid_rdd.zip(categorical_rdd).map((lambda x: (x[0],x[1])))\n",
        "\n",
        "  grouped_rdd = centroid_categorical_value.groupByKey().mapValues(list)\n",
        "\n",
        "  modes = grouped_rdd.map(lambda x: tuple(find_mode(column) for column in zip(*x[1])))\n",
        "  result = np.array(modes.collect())\n",
        "  numpy_arrays = [np.array(row) for row in result.squeeze()]\n",
        "\n",
        "  # find the new centroid for numerical data\n",
        "  centroid_numerical_value = closest_centroid_rdd.zip(numerical_rdd).map((lambda x: (x[0],x[1])))\n",
        "\n",
        "  new_centres = centroid_numerical_value.map(lambda x: ((x[0]),(1,x[1])) ).reduceByKey(lambda x, y: (x[0]+y[0], x[1]+y[1]))\n",
        "  new_c = new_centres.map(lambda x: x[1][1]/x[1][0]).collect()\n",
        "\n",
        "  # compute the difference between new clusters and previous\n",
        "  temp_dist = 0\n",
        "  for i in range(k):\n",
        "    temp_dist += np.sqrt( np.sum( (new_c[i] - numerical_centres_bc.value[i])**2 ) ) + np.sum( (categorical_centres_bc.value[i] != numpy_arrays[i]) ) * 0.2\n",
        "\n",
        "  print(\"iteration\", j+1, \"centroid difference\", temp_dist)\n",
        "\n",
        "  if temp_dist < 0.001:\n",
        "    print(\"centroids remain the same, breaking\")\n",
        "    break\n",
        "  else:\n",
        "    categorical_centres_bc = sc.broadcast(numpy_arrays)\n",
        "    numerical_centres_bc = sc.broadcast(new_c)\n",
        "\n",
        "end = time.time()"
      ],
      "metadata": {
        "colab": {
          "base_uri": "https://localhost:8080/"
        },
        "id": "xck07Db7UuCG",
        "outputId": "ffee90d7-3bdb-4dd5-bce1-37ce651551fb"
      },
      "execution_count": 50,
      "outputs": [
        {
          "output_type": "stream",
          "name": "stdout",
          "text": [
            "iteration 1 centroid difference 0.4406167635439131\n",
            "iteration 2 centroid difference 0.14338694856101353\n",
            "iteration 3 centroid difference 0.15671259782411234\n",
            "iteration 4 centroid difference 0.17325447619527568\n",
            "iteration 5 centroid difference 0.07183622452907937\n",
            "iteration 6 centroid difference 0.020392285628703606\n",
            "iteration 7 centroid difference 0.015092032344825663\n",
            "iteration 8 centroid difference 0.012920157133919514\n",
            "iteration 9 centroid difference 0.010976647578382796\n",
            "iteration 10 centroid difference 0.01168553657590111\n"
          ]
        }
      ]
    },
    {
      "cell_type": "code",
      "source": [
        "print(end-start)"
      ],
      "metadata": {
        "colab": {
          "base_uri": "https://localhost:8080/"
        },
        "id": "qEDdrpVdnCmZ",
        "outputId": "a7831b10-c2ef-4cef-bffe-c9daef715577"
      },
      "execution_count": 51,
      "outputs": [
        {
          "output_type": "stream",
          "name": "stdout",
          "text": [
            "1895.8336703777313\n"
          ]
        }
      ]
    }
  ]
}