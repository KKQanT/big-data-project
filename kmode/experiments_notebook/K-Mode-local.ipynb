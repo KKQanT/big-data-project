{
 "cells": [
  {
   "cell_type": "code",
   "execution_count": null,
   "metadata": {},
   "outputs": [],
   "source": [
    "K = 3 #number of cluseters"
   ]
  },
  {
   "cell_type": "code",
   "execution_count": null,
   "metadata": {},
   "outputs": [],
   "source": [
    "from ucimlrepo import fetch_ucirepo\n",
    "\n",
    "mushroom = fetch_ucirepo(id=73)\n",
    "pdf = mushroom.data.features"
   ]
  },
  {
   "cell_type": "code",
   "execution_count": null,
   "metadata": {},
   "outputs": [],
   "source": [
    "from pyspark.sql import SparkSession\n",
    "\n",
    "spark = SparkSession \\\n",
    "    .builder \\\n",
    "    .master(\"local[*]\") \\\n",
    "    .appName(\"K-Mode-local\") \\\n",
    "    .getOrCreate()\n",
    "\n",
    "sc = spark.sparkContext"
   ]
  },
  {
   "cell_type": "code",
   "execution_count": null,
   "metadata": {},
   "outputs": [],
   "source": [
    "import numpy as np\n",
    "import numpy.typing as npt\n",
    "import random\n",
    "from collections import Counter\n",
    "\n",
    "class KMode:\n",
    "\n",
    "  def __init__(self, K: int) -> None:\n",
    "    self.K = K\n",
    "\n",
    "  def init_centroid(self, X):\n",
    "    col_len = X.shape[1]\n",
    "    centroid = np.array([], dtype=\"<U22\")\n",
    "    for i in range(self.K):\n",
    "      mode = []\n",
    "      for col in range(col_len):\n",
    "        rand_val = random.choice(np.unique(X[:,col]))\n",
    "        mode.append(rand_val)\n",
    "      if i == 0:\n",
    "        centroid = np.array(mode, dtype=\"<U22\")\n",
    "        del mode\n",
    "      else:\n",
    "        mode = np.array(mode, dtype=\"<U22\")\n",
    "        centroid = np.vstack((centroid, mode))\n",
    "    self.centroid = centroid\n",
    "    return centroid\n",
    "\n",
    "  def get_closest_centroid(self, x):\n",
    "    min_hamming_distance = np.inf\n",
    "    closest_cluster = 0\n",
    "    for i, mode in enumerate(self.centroid):\n",
    "      distance = self.hamming_distance(x, mode)\n",
    "      if distance < min_hamming_distance:\n",
    "        min_hamming_distance = distance\n",
    "        closest_cluster = i\n",
    "    return closest_cluster\n",
    "\n",
    "  def fit(self, X, n_iters=100, stopping_criterion=1) -> None:\n",
    "    self.init_centroid(X)\n",
    "    self.clustered = np.zeros(X.shape[0])\n",
    "    for iter in range(n_iters):\n",
    "      loss = self.fit_one_step(X)\n",
    "      print(f\"iter: {iter} loss: {loss}\")\n",
    "      if loss < stopping_criterion:\n",
    "        break\n",
    "\n",
    "  def fit_one_step(self, X) -> int:\n",
    "    self.prev_centroid = self.centroid.copy()\n",
    "    for (i, x) in enumerate(X):\n",
    "      closest_centroid = self.get_closest_centroid(x)\n",
    "      self.clustered[i] = closest_centroid\n",
    "    for i in range(self.K):\n",
    "      idx = np.where(self.clustered == i)[0]\n",
    "      if (idx.shape[0] > 0):\n",
    "        new_mode = self.get_mode_from_arr(X[idx])\n",
    "        self.centroid[i] = new_mode\n",
    "    return self.hamming_distance(self.centroid, self.prev_centroid)\n",
    "\n",
    "  def transform(self, X_test):\n",
    "    clustered = np.zeros(X_test.shape[0])\n",
    "    for (i, x) in enumerate(X_test):\n",
    "      closest_centroid = self.get_closest_centroid(x)\n",
    "      clustered[i] = closest_centroid\n",
    "    return clustered\n",
    "\n",
    "  @staticmethod\n",
    "  def hamming_distance(a, b) -> int:\n",
    "    return np.count_nonzero(a != b)\n",
    "\n",
    "  @staticmethod\n",
    "  def get_mode_from_arr(arr):\n",
    "    def get_mode_from_vec(vec):\n",
    "      counted = Counter(vec)\n",
    "      return counted.most_common(1)[0][0]\n",
    "    return np.apply_along_axis(get_mode_from_vec, 0, arr)"
   ]
  },
  {
   "cell_type": "code",
   "execution_count": null,
   "metadata": {},
   "outputs": [],
   "source": [
    "def parition_to_numpy_array(instances):\n",
    "  array = None\n",
    "  for row in instances:\n",
    "    if array is None:\n",
    "      array = np.array(list(row.asDict().values()), dtype=\"<U22\")\n",
    "    else:\n",
    "      array_row = np.array(list(row.asDict().values()), dtype=\"<U22\")\n",
    "      array = np.vstack((array, array_row))\n",
    "  yield array"
   ]
  },
  {
   "cell_type": "code",
   "execution_count": null,
   "metadata": {},
   "outputs": [],
   "source": [
    "def get_optimal_kmode_centroid(X, K=3):\n",
    "  kmode = KMode(K)\n",
    "  kmode.fit(X)\n",
    "  return kmode.centroid\n",
    "\n",
    "def get_optimal_kmode_centroid_with_dummy_key(X, K=3):\n",
    "  centroid = get_optimal_kmode_centroid(X, K)\n",
    "  return (1, centroid)"
   ]
  },
  {
   "cell_type": "code",
   "execution_count": null,
   "metadata": {},
   "outputs": [],
   "source": [
    "df = spark.createDataFrame(pdf)\n",
    "df.cache()\n",
    "rdd = df.rdd.repartition(10)\n",
    "rdd.cache()"
   ]
  },
  {
   "cell_type": "code",
   "execution_count": null,
   "metadata": {},
   "outputs": [],
   "source": [
    "rdd = rdd.mapPartitions(parition_to_numpy_array)\n",
    "rdd = rdd.map(get_optimal_kmode_centroid)\n",
    "\n",
    "all_centroids = rdd.reduce(lambda x, y: np.vstack((x, y)))\n",
    "\n",
    "final_kmode = KMode(K)\n",
    "\n",
    "final_kmode.fit(all_centroids)"
   ]
  },
  {
   "cell_type": "code",
   "execution_count": null,
   "metadata": {},
   "outputs": [],
   "source": [
    "final_kmode.centroid"
   ]
  }
 ],
 "metadata": {
  "kernelspec": {
   "display_name": "venv",
   "language": "python",
   "name": "python3"
  },
  "language_info": {
   "name": "python",
   "version": "3.11.5"
  }
 },
 "nbformat": 4,
 "nbformat_minor": 2
}
