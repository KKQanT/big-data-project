{
 "cells": [
  {
   "cell_type": "code",
   "execution_count": null,
   "metadata": {},
   "outputs": [],
   "source": [
    "from ucimlrepo import fetch_ucirepo\n",
    "import time\n",
    "from math import e\n",
    "import random\n",
    "import numpy as np\n",
    "import gc\n",
    "from collections import Counter\n",
    "\n",
    "def to_numpy(row):\n",
    "  a = list(row.asDict().values())\n",
    "  return np.array(a, dtype=\"<U22\")\n",
    "\n",
    "def hamming_distance(x1, x2):\n",
    "  return np.count_nonzero(x1!=x2)\n",
    "\n",
    "def get_closest_cluster(x, centroid):\n",
    "  min_hamming_distance = np.inf\n",
    "  closest_cluster = 0\n",
    "  for i, mode in enumerate(centroid):\n",
    "     distance = hamming_distance(x, mode)\n",
    "     if distance < min_hamming_distance:\n",
    "        min_hamming_distance = distance\n",
    "        closest_cluster = i\n",
    "  return (closest_cluster, x)\n",
    "\n",
    "def get_mode_from_vec(vec):\n",
    "  counted = Counter(vec)\n",
    "  return counted.most_common(1)[0][0]\n",
    "\n",
    "def get_mode_from_arr(arr):\n",
    "  return np.apply_along_axis(get_mode_from_vec, 0, arr)"
   ]
  }
 ],
 "metadata": {
  "kernelspec": {
   "display_name": ".venv",
   "language": "python",
   "name": "python3"
  },
  "language_info": {
   "name": "python",
   "version": "3.11.5"
  }
 },
 "nbformat": 4,
 "nbformat_minor": 2
}
